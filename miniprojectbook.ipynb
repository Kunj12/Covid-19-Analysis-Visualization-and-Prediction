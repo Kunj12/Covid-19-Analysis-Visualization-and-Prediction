{
 "cells": [
  {
   "cell_type": "code",
   "execution_count": null,
   "id": "3b25878b",
   "metadata": {},
   "outputs": [],
   "source": [
    "import pandas as pd\n",
    "import matplotlib.pyplot as plt\n",
    "%matplotlib inline\n",
    "\n",
    "import seaborn as sns\n",
    "import numpy as np\n",
    "import plotly.offline as pyo\n",
    "from plotly.offline import init_notebook_mode,plot,iplot\n",
    "import cufflinks as cf\n",
    "import folium\n",
    "import warnings\n",
    "warnings.filterwarnings('ignore')"
   ]
  },
  {
   "cell_type": "code",
   "execution_count": null,
   "id": "e4abf646",
   "metadata": {},
   "outputs": [],
   "source": [
    "pyo.init_notebook_mode(connected=True)\n",
    "cf.go_offline()"
   ]
  },
  {
   "cell_type": "code",
   "execution_count": null,
   "id": "5f92b45b",
   "metadata": {},
   "outputs": [],
   "source": [
    "pd.options.display.float_format = '{:.2f}'.format"
   ]
  },
  {
   "cell_type": "code",
   "execution_count": null,
   "id": "39b20406",
   "metadata": {},
   "outputs": [],
   "source": [
    "pd.set_option('display.max_rows',None)"
   ]
  },
  {
   "cell_type": "markdown",
   "id": "7602e351",
   "metadata": {},
   "source": [
    "# Importing my dataset"
   ]
  },
  {
   "cell_type": "code",
   "execution_count": null,
   "id": "238b28fe",
   "metadata": {},
   "outputs": [],
   "source": [
    "df= pd.read_csv(r'/home/blunder-master/Downloads/archive/covid_19_data.csv')"
   ]
  },
  {
   "cell_type": "code",
   "execution_count": null,
   "id": "a53fecc2",
   "metadata": {
    "scrolled": true
   },
   "outputs": [],
   "source": [
    "df.head()"
   ]
  },
  {
   "cell_type": "code",
   "execution_count": null,
   "id": "99a7a393",
   "metadata": {},
   "outputs": [],
   "source": [
    "df.shape"
   ]
  },
  {
   "cell_type": "code",
   "execution_count": null,
   "id": "ea809401",
   "metadata": {},
   "outputs": [],
   "source": [
    "df.tail()"
   ]
  },
  {
   "cell_type": "code",
   "execution_count": null,
   "id": "8b5f1766",
   "metadata": {},
   "outputs": [],
   "source": []
  },
  {
   "cell_type": "markdown",
   "id": "bdb75677",
   "metadata": {},
   "source": [
    "# Data Analysis"
   ]
  },
  {
   "cell_type": "code",
   "execution_count": null,
   "id": "b23e107b",
   "metadata": {},
   "outputs": [],
   "source": [
    "df.info()"
   ]
  },
  {
   "cell_type": "code",
   "execution_count": null,
   "id": "268d3867",
   "metadata": {},
   "outputs": [],
   "source": [
    "df.isnull().sum()"
   ]
  },
  {
   "cell_type": "code",
   "execution_count": null,
   "id": "c7c96013",
   "metadata": {},
   "outputs": [],
   "source": [
    "df.describe()"
   ]
  },
  {
   "cell_type": "code",
   "execution_count": null,
   "id": "644d3a0a",
   "metadata": {},
   "outputs": [],
   "source": [
    "Confirmed=df.groupby('ObservationDate').sum()['Confirmed'].reset_index()"
   ]
  },
  {
   "cell_type": "code",
   "execution_count": null,
   "id": "3a90b338",
   "metadata": {},
   "outputs": [],
   "source": [
    "Confirmed"
   ]
  },
  {
   "cell_type": "code",
   "execution_count": null,
   "id": "371f8b75",
   "metadata": {},
   "outputs": [],
   "source": [
    "Deaths=df.groupby('ObservationDate').sum()['Deaths'].reset_index()"
   ]
  },
  {
   "cell_type": "code",
   "execution_count": null,
   "id": "8f8cbfa9",
   "metadata": {},
   "outputs": [],
   "source": [
    "Deaths"
   ]
  },
  {
   "cell_type": "code",
   "execution_count": null,
   "id": "0a2d41cb",
   "metadata": {},
   "outputs": [],
   "source": [
    "Recovered=df.groupby('ObservationDate').sum()['Recovered'].reset_index()"
   ]
  },
  {
   "cell_type": "code",
   "execution_count": null,
   "id": "540a7e60",
   "metadata": {},
   "outputs": [],
   "source": [
    "Recovered"
   ]
  },
  {
   "cell_type": "markdown",
   "id": "55b628aa",
   "metadata": {},
   "source": [
    "# Plotted through Pandas below"
   ]
  },
  {
   "cell_type": "code",
   "execution_count": null,
   "id": "3901919f",
   "metadata": {
    "scrolled": true
   },
   "outputs": [],
   "source": [
    "Confirmed.plot(kind='bar',x='ObservationDate',y='Confirmed',color='red')"
   ]
  },
  {
   "cell_type": "markdown",
   "id": "52cab97f",
   "metadata": {},
   "source": [
    "# Plotted with Seaborn below"
   ]
  },
  {
   "cell_type": "code",
   "execution_count": null,
   "id": "0bc5c8f8",
   "metadata": {},
   "outputs": [],
   "source": [
    "sns.barplot(x=Confirmed['ObservationDate'],y=Confirmed['Confirmed'])"
   ]
  },
  {
   "cell_type": "markdown",
   "id": "de4811ca",
   "metadata": {},
   "source": [
    "# Plotted through Matplotlib below"
   ]
  },
  {
   "cell_type": "code",
   "execution_count": null,
   "id": "32ae5f94",
   "metadata": {},
   "outputs": [],
   "source": [
    "plt.bar(x=Confirmed['ObservationDate'],height=Confirmed['Confirmed'])"
   ]
  },
  {
   "cell_type": "markdown",
   "id": "17614f35",
   "metadata": {},
   "source": [
    "# Plotted through Plotly below for number of Confirmed Cases"
   ]
  },
  {
   "cell_type": "code",
   "execution_count": null,
   "id": "67c68011",
   "metadata": {},
   "outputs": [],
   "source": [
    "Confirmed.iplot(kind='bar',x='ObservationDate',y='Confirmed')"
   ]
  },
  {
   "cell_type": "markdown",
   "id": "a247dfff",
   "metadata": {},
   "source": [
    "# PLotted through Plotly below for  Number of Deaths"
   ]
  },
  {
   "cell_type": "code",
   "execution_count": null,
   "id": "34092d8f",
   "metadata": {},
   "outputs": [],
   "source": [
    "Deaths.iplot(kind='bar',x='ObservationDate',y='Deaths',color='red')"
   ]
  },
  {
   "cell_type": "markdown",
   "id": "3204ee6a",
   "metadata": {},
   "source": [
    "# PLotted through Plotly below for  Number of Recovred Cases"
   ]
  },
  {
   "cell_type": "code",
   "execution_count": null,
   "id": "b2190c38",
   "metadata": {},
   "outputs": [],
   "source": [
    "Recovered.iplot(kind='bar',x='ObservationDate',y='Recovered',color='green')"
   ]
  },
  {
   "cell_type": "code",
   "execution_count": null,
   "id": "952215a8",
   "metadata": {},
   "outputs": [],
   "source": []
  },
  {
   "cell_type": "code",
   "execution_count": null,
   "id": "2c5c4f45",
   "metadata": {},
   "outputs": [],
   "source": []
  },
  {
   "cell_type": "markdown",
   "id": "5714a338",
   "metadata": {},
   "source": [
    "# Prediction"
   ]
  },
  {
   "cell_type": "code",
   "execution_count": null,
   "id": "10fcfff5",
   "metadata": {},
   "outputs": [],
   "source": [
    "from prophet import Prophet"
   ]
  },
  {
   "cell_type": "code",
   "execution_count": null,
   "id": "5675249a",
   "metadata": {},
   "outputs": [],
   "source": [
    "df.head()"
   ]
  },
  {
   "cell_type": "code",
   "execution_count": null,
   "id": "d81580d8",
   "metadata": {},
   "outputs": [],
   "source": [
    "Confirmed.head()"
   ]
  },
  {
   "cell_type": "code",
   "execution_count": null,
   "id": "cb6b890c",
   "metadata": {},
   "outputs": [],
   "source": [
    "Deaths.head()"
   ]
  },
  {
   "cell_type": "code",
   "execution_count": null,
   "id": "f956dc30",
   "metadata": {},
   "outputs": [],
   "source": [
    "Recovered.head()"
   ]
  },
  {
   "cell_type": "code",
   "execution_count": null,
   "id": "3b5469f5",
   "metadata": {},
   "outputs": [],
   "source": [
    "Confirmed.tail()"
   ]
  },
  {
   "cell_type": "code",
   "execution_count": null,
   "id": "3be24ec1",
   "metadata": {},
   "outputs": [],
   "source": [
    "Confirmed.head()"
   ]
  },
  {
   "cell_type": "code",
   "execution_count": null,
   "id": "54f3b23e",
   "metadata": {},
   "outputs": [],
   "source": [
    "Deaths.tail()"
   ]
  },
  {
   "cell_type": "code",
   "execution_count": null,
   "id": "011563e3",
   "metadata": {},
   "outputs": [],
   "source": [
    "Recovered.tail()"
   ]
  },
  {
   "cell_type": "code",
   "execution_count": null,
   "id": "47caed60",
   "metadata": {},
   "outputs": [],
   "source": []
  },
  {
   "cell_type": "code",
   "execution_count": null,
   "id": "8d58542c",
   "metadata": {},
   "outputs": [],
   "source": [
    "# Date=ds(datestamp, column= y)\n",
    "# prophet takes dates in yyyy-mm-dd and hh:mm:ss\n",
    "# so converting in first"
   ]
  },
  {
   "cell_type": "code",
   "execution_count": null,
   "id": "61227f10",
   "metadata": {},
   "outputs": [],
   "source": []
  },
  {
   "cell_type": "code",
   "execution_count": null,
   "id": "eef652ba",
   "metadata": {},
   "outputs": [],
   "source": []
  },
  {
   "cell_type": "markdown",
   "id": "9850afe6",
   "metadata": {},
   "source": [
    "# Prediction for Confirmed Cases Worldwide"
   ]
  },
  {
   "cell_type": "code",
   "execution_count": null,
   "id": "e81e912b",
   "metadata": {},
   "outputs": [],
   "source": [
    "Confirmed.columns=['ds','y']\n",
    "Confirmed['ds']=pd.to_datetime(Confirmed['ds'])\n",
    "Confirmed"
   ]
  },
  {
   "cell_type": "code",
   "execution_count": null,
   "id": "ca6f0c14",
   "metadata": {},
   "outputs": [],
   "source": []
  },
  {
   "cell_type": "code",
   "execution_count": null,
   "id": "554522f6",
   "metadata": {},
   "outputs": [],
   "source": [
    "predictModel=Prophet(interval_width=0.96)\n",
    "predictModel.fit(Confirmed)"
   ]
  },
  {
   "cell_type": "code",
   "execution_count": null,
   "id": "b9d42601",
   "metadata": {},
   "outputs": [],
   "source": [
    "future=predictModel.make_future_dataframe(periods=300)\n",
    "future"
   ]
  },
  {
   "cell_type": "code",
   "execution_count": null,
   "id": "1ae58753",
   "metadata": {},
   "outputs": [],
   "source": [
    "future.tail(30)"
   ]
  },
  {
   "cell_type": "code",
   "execution_count": null,
   "id": "c3c4398c",
   "metadata": {},
   "outputs": [],
   "source": [
    "forecastConfirm=predictModel.predict(future)"
   ]
  },
  {
   "cell_type": "code",
   "execution_count": null,
   "id": "33b733b0",
   "metadata": {
    "scrolled": true
   },
   "outputs": [],
   "source": [
    "forecastConfirm"
   ]
  },
  {
   "cell_type": "code",
   "execution_count": null,
   "id": "6d4b38da",
   "metadata": {},
   "outputs": [],
   "source": [
    "forecastConfirm[['ds','yhat','yhat_lower','yhat_upper']]"
   ]
  },
  {
   "cell_type": "code",
   "execution_count": null,
   "id": "bb894792",
   "metadata": {
    "scrolled": false
   },
   "outputs": [],
   "source": [
    "forecastConfirm[['ds','yhat','yhat_lower','yhat_upper']].tail(300)"
   ]
  },
  {
   "cell_type": "code",
   "execution_count": null,
   "id": "f7370f7d",
   "metadata": {},
   "outputs": [],
   "source": [
    "forecastConfirm.iplot(kind='bar',x='ds',y='yhat',color='purple')"
   ]
  },
  {
   "cell_type": "code",
   "execution_count": null,
   "id": "31b4ea40",
   "metadata": {},
   "outputs": [],
   "source": [
    "forecastConfirm.iplot(mode='markers+text',kind='scatter',x='ds',y='yhat_upper',color='purple')"
   ]
  },
  {
   "cell_type": "markdown",
   "id": "246cb19d",
   "metadata": {},
   "source": [
    "# Visualization for Confirmed Cases Worldwide"
   ]
  },
  {
   "cell_type": "code",
   "execution_count": null,
   "id": "563a7a64",
   "metadata": {},
   "outputs": [],
   "source": []
  },
  {
   "cell_type": "code",
   "execution_count": null,
   "id": "b9156696",
   "metadata": {},
   "outputs": [],
   "source": []
  },
  {
   "cell_type": "markdown",
   "id": "c531973f",
   "metadata": {},
   "source": [
    "# Prediction for Deathtoll Worldwide"
   ]
  },
  {
   "cell_type": "code",
   "execution_count": null,
   "id": "3feb5f9e",
   "metadata": {},
   "outputs": [],
   "source": [
    "Deaths.columns=['ds','y']\n",
    "Deaths['ds']=pd.to_datetime(Deaths['ds'])\n",
    "Deaths"
   ]
  },
  {
   "cell_type": "code",
   "execution_count": null,
   "id": "31247ee6",
   "metadata": {},
   "outputs": [],
   "source": [
    "predictModel=Prophet(interval_width=0.96)\n",
    "predictModel.fit(Deaths)"
   ]
  },
  {
   "cell_type": "code",
   "execution_count": null,
   "id": "754987ba",
   "metadata": {},
   "outputs": [],
   "source": [
    "forecastDeaths=predictModel.predict(future)\n",
    "forecastDeaths"
   ]
  },
  {
   "cell_type": "code",
   "execution_count": null,
   "id": "8de34d0e",
   "metadata": {},
   "outputs": [],
   "source": [
    "forecastDeaths[['ds','yhat','yhat_lower','yhat_upper']]"
   ]
  },
  {
   "cell_type": "code",
   "execution_count": null,
   "id": "4c8d5c86",
   "metadata": {},
   "outputs": [],
   "source": [
    "forecastDeaths[['ds','yhat','yhat_lower','yhat_upper']].tail(300)"
   ]
  },
  {
   "cell_type": "code",
   "execution_count": null,
   "id": "03e01367",
   "metadata": {},
   "outputs": [],
   "source": [
    "forecastDeaths.iplot(kind='bar',x='ds',y='yhat_upper',color='red')"
   ]
  },
  {
   "cell_type": "code",
   "execution_count": null,
   "id": "1eaaaec6",
   "metadata": {},
   "outputs": [],
   "source": [
    "forecastDeaths.iplot(mode='markers+text',kind='scatter',x='ds',y='yhat_upper',color='red')"
   ]
  },
  {
   "cell_type": "markdown",
   "id": "de9362db",
   "metadata": {},
   "source": [
    "# Visualization for Deathtoll Worldwide"
   ]
  },
  {
   "cell_type": "code",
   "execution_count": null,
   "id": "4078cc94",
   "metadata": {},
   "outputs": [],
   "source": []
  },
  {
   "cell_type": "code",
   "execution_count": null,
   "id": "1e7f1c1b",
   "metadata": {},
   "outputs": [],
   "source": []
  },
  {
   "cell_type": "markdown",
   "id": "6dec306e",
   "metadata": {},
   "source": [
    "# Prediction for Recovered Cases Worlwide"
   ]
  },
  {
   "cell_type": "code",
   "execution_count": null,
   "id": "b9a08ac3",
   "metadata": {},
   "outputs": [],
   "source": [
    "Recovered.columns=['ds','y']\n",
    "Recovered['ds']=pd.to_datetime(Recovered['ds'])\n",
    "Recovered"
   ]
  },
  {
   "cell_type": "code",
   "execution_count": null,
   "id": "7583b117",
   "metadata": {},
   "outputs": [],
   "source": [
    "predictModel=Prophet(interval_width=0.96)\n",
    "predictModel.fit(Recovered)"
   ]
  },
  {
   "cell_type": "code",
   "execution_count": null,
   "id": "fd969493",
   "metadata": {},
   "outputs": [],
   "source": [
    "future=predictModel.make_future_dataframe(periods=300)\n",
    "future"
   ]
  },
  {
   "cell_type": "code",
   "execution_count": null,
   "id": "1c3a9fb7",
   "metadata": {},
   "outputs": [],
   "source": [
    "Recovered.tail(300)"
   ]
  },
  {
   "cell_type": "code",
   "execution_count": null,
   "id": "ae7b529f",
   "metadata": {},
   "outputs": [],
   "source": [
    "forecastRecovered=predictModel.predict(future)\n",
    "forecastRecovered"
   ]
  },
  {
   "cell_type": "code",
   "execution_count": null,
   "id": "263860c4",
   "metadata": {},
   "outputs": [],
   "source": [
    "forecastRecovered[['ds','yhat','yhat_lower','yhat_upper']]"
   ]
  },
  {
   "cell_type": "code",
   "execution_count": null,
   "id": "420efd53",
   "metadata": {},
   "outputs": [],
   "source": [
    "forecastRecovered[['ds','yhat','yhat_lower','yhat_upper']].tail(300)"
   ]
  },
  {
   "cell_type": "code",
   "execution_count": null,
   "id": "ec67c3b8",
   "metadata": {},
   "outputs": [],
   "source": [
    "forecastRecovered.iplot(kind='bar',x='ds',y='yhat_upper',color='green')"
   ]
  },
  {
   "cell_type": "code",
   "execution_count": null,
   "id": "e20d5a42",
   "metadata": {},
   "outputs": [],
   "source": [
    "forecastRecovered.iplot(mode='markers+text',kind='scatter',x='ds',y='yhat_upper',color='green')"
   ]
  },
  {
   "cell_type": "markdown",
   "id": "ee35ae25",
   "metadata": {},
   "source": [
    "# Visualization for Recovered Cases Worldwide"
   ]
  },
  {
   "cell_type": "code",
   "execution_count": null,
   "id": "c647f5dc",
   "metadata": {},
   "outputs": [],
   "source": []
  },
  {
   "cell_type": "code",
   "execution_count": null,
   "id": "6baa8a67",
   "metadata": {},
   "outputs": [],
   "source": []
  },
  {
   "cell_type": "code",
   "execution_count": null,
   "id": "dabc5bff",
   "metadata": {},
   "outputs": [],
   "source": []
  }
 ],
 "metadata": {
  "kernelspec": {
   "display_name": "Python 3",
   "language": "python",
   "name": "python3"
  },
  "language_info": {
   "codemirror_mode": {
    "name": "ipython",
    "version": 3
   },
   "file_extension": ".py",
   "mimetype": "text/x-python",
   "name": "python",
   "nbconvert_exporter": "python",
   "pygments_lexer": "ipython3",
   "version": "3.8.8"
  }
 },
 "nbformat": 4,
 "nbformat_minor": 5
}
